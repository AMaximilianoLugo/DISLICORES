{
 "cells": [
  {
   "cell_type": "markdown",
   "metadata": {},
   "source": [
    "# Análisis Exploratorio de Datos (EDA)"
   ]
  },
  {
   "cell_type": "markdown",
   "metadata": {},
   "source": [
    "### Carga de Librerías"
   ]
  },
  {
   "cell_type": "code",
   "execution_count": 1,
   "metadata": {},
   "outputs": [],
   "source": [
    "import pandas as pd\n",
    "import numpy as np\n",
    "import matplotlib.pyplot as plt\n",
    "import seaborn as sns"
   ]
  },
  {
   "cell_type": "markdown",
   "metadata": {},
   "source": [
    "### Carga de Data"
   ]
  },
  {
   "cell_type": "markdown",
   "metadata": {},
   "source": []
  },
  {
   "cell_type": "code",
   "execution_count": 2,
   "metadata": {},
   "outputs": [],
   "source": [
    "InventarioFinal2016 = pd.read_csv(r\"/Users/Macbook/Downloads/InventoryDataset/EndInvFINAL12312016.csv\")"
   ]
  },
  {
   "cell_type": "markdown",
   "metadata": {},
   "source": [
    "### Revisión Estructural"
   ]
  },
  {
   "cell_type": "code",
   "execution_count": 3,
   "metadata": {},
   "outputs": [
    {
     "data": {
      "text/html": [
       "<div>\n",
       "<style scoped>\n",
       "    .dataframe tbody tr th:only-of-type {\n",
       "        vertical-align: middle;\n",
       "    }\n",
       "\n",
       "    .dataframe tbody tr th {\n",
       "        vertical-align: top;\n",
       "    }\n",
       "\n",
       "    .dataframe thead th {\n",
       "        text-align: right;\n",
       "    }\n",
       "</style>\n",
       "<table border=\"1\" class=\"dataframe\">\n",
       "  <thead>\n",
       "    <tr style=\"text-align: right;\">\n",
       "      <th></th>\n",
       "      <th>InventoryId</th>\n",
       "      <th>Store</th>\n",
       "      <th>City</th>\n",
       "      <th>Brand</th>\n",
       "      <th>Description</th>\n",
       "      <th>Size</th>\n",
       "      <th>onHand</th>\n",
       "      <th>Price</th>\n",
       "      <th>endDate</th>\n",
       "    </tr>\n",
       "  </thead>\n",
       "  <tbody>\n",
       "    <tr>\n",
       "      <th>0</th>\n",
       "      <td>1_HARDERSFIELD_58</td>\n",
       "      <td>1</td>\n",
       "      <td>HARDERSFIELD</td>\n",
       "      <td>58</td>\n",
       "      <td>Gekkeikan Black &amp; Gold Sake</td>\n",
       "      <td>750mL</td>\n",
       "      <td>11</td>\n",
       "      <td>12.99</td>\n",
       "      <td>2016-12-31</td>\n",
       "    </tr>\n",
       "    <tr>\n",
       "      <th>1</th>\n",
       "      <td>1_HARDERSFIELD_62</td>\n",
       "      <td>1</td>\n",
       "      <td>HARDERSFIELD</td>\n",
       "      <td>62</td>\n",
       "      <td>Herradura Silver Tequila</td>\n",
       "      <td>750mL</td>\n",
       "      <td>7</td>\n",
       "      <td>36.99</td>\n",
       "      <td>2016-12-31</td>\n",
       "    </tr>\n",
       "    <tr>\n",
       "      <th>2</th>\n",
       "      <td>1_HARDERSFIELD_63</td>\n",
       "      <td>1</td>\n",
       "      <td>HARDERSFIELD</td>\n",
       "      <td>63</td>\n",
       "      <td>Herradura Reposado Tequila</td>\n",
       "      <td>750mL</td>\n",
       "      <td>7</td>\n",
       "      <td>38.99</td>\n",
       "      <td>2016-12-31</td>\n",
       "    </tr>\n",
       "    <tr>\n",
       "      <th>3</th>\n",
       "      <td>1_HARDERSFIELD_72</td>\n",
       "      <td>1</td>\n",
       "      <td>HARDERSFIELD</td>\n",
       "      <td>72</td>\n",
       "      <td>No. 3 London Dry Gin</td>\n",
       "      <td>750mL</td>\n",
       "      <td>4</td>\n",
       "      <td>34.99</td>\n",
       "      <td>2016-12-31</td>\n",
       "    </tr>\n",
       "    <tr>\n",
       "      <th>4</th>\n",
       "      <td>1_HARDERSFIELD_75</td>\n",
       "      <td>1</td>\n",
       "      <td>HARDERSFIELD</td>\n",
       "      <td>75</td>\n",
       "      <td>Three Olives Tomato Vodka</td>\n",
       "      <td>750mL</td>\n",
       "      <td>7</td>\n",
       "      <td>14.99</td>\n",
       "      <td>2016-12-31</td>\n",
       "    </tr>\n",
       "  </tbody>\n",
       "</table>\n",
       "</div>"
      ],
      "text/plain": [
       "         InventoryId  Store          City  Brand                  Description  \\\n",
       "0  1_HARDERSFIELD_58      1  HARDERSFIELD     58  Gekkeikan Black & Gold Sake   \n",
       "1  1_HARDERSFIELD_62      1  HARDERSFIELD     62     Herradura Silver Tequila   \n",
       "2  1_HARDERSFIELD_63      1  HARDERSFIELD     63   Herradura Reposado Tequila   \n",
       "3  1_HARDERSFIELD_72      1  HARDERSFIELD     72         No. 3 London Dry Gin   \n",
       "4  1_HARDERSFIELD_75      1  HARDERSFIELD     75    Three Olives Tomato Vodka   \n",
       "\n",
       "    Size  onHand  Price     endDate  \n",
       "0  750mL      11  12.99  2016-12-31  \n",
       "1  750mL       7  36.99  2016-12-31  \n",
       "2  750mL       7  38.99  2016-12-31  \n",
       "3  750mL       4  34.99  2016-12-31  \n",
       "4  750mL       7  14.99  2016-12-31  "
      ]
     },
     "execution_count": 3,
     "metadata": {},
     "output_type": "execute_result"
    }
   ],
   "source": [
    "InventarioFinal2016.head()"
   ]
  },
  {
   "cell_type": "code",
   "execution_count": 4,
   "metadata": {},
   "outputs": [
    {
     "data": {
      "text/html": [
       "<div>\n",
       "<style scoped>\n",
       "    .dataframe tbody tr th:only-of-type {\n",
       "        vertical-align: middle;\n",
       "    }\n",
       "\n",
       "    .dataframe tbody tr th {\n",
       "        vertical-align: top;\n",
       "    }\n",
       "\n",
       "    .dataframe thead th {\n",
       "        text-align: right;\n",
       "    }\n",
       "</style>\n",
       "<table border=\"1\" class=\"dataframe\">\n",
       "  <thead>\n",
       "    <tr style=\"text-align: right;\">\n",
       "      <th></th>\n",
       "      <th>count</th>\n",
       "      <th>mean</th>\n",
       "      <th>std</th>\n",
       "      <th>min</th>\n",
       "      <th>25%</th>\n",
       "      <th>50%</th>\n",
       "      <th>75%</th>\n",
       "      <th>max</th>\n",
       "    </tr>\n",
       "  </thead>\n",
       "  <tbody>\n",
       "    <tr>\n",
       "      <th>Store</th>\n",
       "      <td>224489.0</td>\n",
       "      <td>43.505740</td>\n",
       "      <td>23.326415</td>\n",
       "      <td>1.00</td>\n",
       "      <td>23.00</td>\n",
       "      <td>44.00</td>\n",
       "      <td>66.00</td>\n",
       "      <td>81.0</td>\n",
       "    </tr>\n",
       "    <tr>\n",
       "      <th>Brand</th>\n",
       "      <td>224489.0</td>\n",
       "      <td>14356.370513</td>\n",
       "      <td>13118.467851</td>\n",
       "      <td>58.00</td>\n",
       "      <td>3798.00</td>\n",
       "      <td>8259.00</td>\n",
       "      <td>23965.00</td>\n",
       "      <td>90631.0</td>\n",
       "    </tr>\n",
       "    <tr>\n",
       "      <th>onHand</th>\n",
       "      <td>224489.0</td>\n",
       "      <td>21.763988</td>\n",
       "      <td>37.233576</td>\n",
       "      <td>0.00</td>\n",
       "      <td>7.00</td>\n",
       "      <td>12.00</td>\n",
       "      <td>22.00</td>\n",
       "      <td>3676.0</td>\n",
       "    </tr>\n",
       "    <tr>\n",
       "      <th>Price</th>\n",
       "      <td>224489.0</td>\n",
       "      <td>23.585583</td>\n",
       "      <td>79.202775</td>\n",
       "      <td>0.49</td>\n",
       "      <td>9.99</td>\n",
       "      <td>14.99</td>\n",
       "      <td>23.49</td>\n",
       "      <td>13999.9</td>\n",
       "    </tr>\n",
       "  </tbody>\n",
       "</table>\n",
       "</div>"
      ],
      "text/plain": [
       "           count          mean           std    min      25%      50%  \\\n",
       "Store   224489.0     43.505740     23.326415   1.00    23.00    44.00   \n",
       "Brand   224489.0  14356.370513  13118.467851  58.00  3798.00  8259.00   \n",
       "onHand  224489.0     21.763988     37.233576   0.00     7.00    12.00   \n",
       "Price   224489.0     23.585583     79.202775   0.49     9.99    14.99   \n",
       "\n",
       "             75%      max  \n",
       "Store      66.00     81.0  \n",
       "Brand   23965.00  90631.0  \n",
       "onHand     22.00   3676.0  \n",
       "Price      23.49  13999.9  "
      ]
     },
     "execution_count": 4,
     "metadata": {},
     "output_type": "execute_result"
    }
   ],
   "source": [
    "# Para variables cuantitativas\n",
    "\n",
    "InventarioFinal2016.describe().T"
   ]
  },
  {
   "cell_type": "code",
   "execution_count": 5,
   "metadata": {},
   "outputs": [
    {
     "data": {
      "text/html": [
       "<div>\n",
       "<style scoped>\n",
       "    .dataframe tbody tr th:only-of-type {\n",
       "        vertical-align: middle;\n",
       "    }\n",
       "\n",
       "    .dataframe tbody tr th {\n",
       "        vertical-align: top;\n",
       "    }\n",
       "\n",
       "    .dataframe thead th {\n",
       "        text-align: right;\n",
       "    }\n",
       "</style>\n",
       "<table border=\"1\" class=\"dataframe\">\n",
       "  <thead>\n",
       "    <tr style=\"text-align: right;\">\n",
       "      <th></th>\n",
       "      <th>count</th>\n",
       "      <th>unique</th>\n",
       "      <th>top</th>\n",
       "      <th>freq</th>\n",
       "    </tr>\n",
       "  </thead>\n",
       "  <tbody>\n",
       "    <tr>\n",
       "      <th>InventoryId</th>\n",
       "      <td>224489</td>\n",
       "      <td>224489</td>\n",
       "      <td>81_PEMBROKE_90604</td>\n",
       "      <td>1</td>\n",
       "    </tr>\n",
       "    <tr>\n",
       "      <th>City</th>\n",
       "      <td>223205</td>\n",
       "      <td>67</td>\n",
       "      <td>MOUNTMEND</td>\n",
       "      <td>18065</td>\n",
       "    </tr>\n",
       "    <tr>\n",
       "      <th>Description</th>\n",
       "      <td>224489</td>\n",
       "      <td>8732</td>\n",
       "      <td>Jagermeister Liqueur</td>\n",
       "      <td>462</td>\n",
       "    </tr>\n",
       "    <tr>\n",
       "      <th>Size</th>\n",
       "      <td>224489</td>\n",
       "      <td>47</td>\n",
       "      <td>750mL</td>\n",
       "      <td>158227</td>\n",
       "    </tr>\n",
       "    <tr>\n",
       "      <th>endDate</th>\n",
       "      <td>224489</td>\n",
       "      <td>1</td>\n",
       "      <td>2016-12-31</td>\n",
       "      <td>224489</td>\n",
       "    </tr>\n",
       "  </tbody>\n",
       "</table>\n",
       "</div>"
      ],
      "text/plain": [
       "              count  unique                   top    freq\n",
       "InventoryId  224489  224489     81_PEMBROKE_90604       1\n",
       "City         223205      67             MOUNTMEND   18065\n",
       "Description  224489    8732  Jagermeister Liqueur     462\n",
       "Size         224489      47                 750mL  158227\n",
       "endDate      224489       1            2016-12-31  224489"
      ]
     },
     "execution_count": 5,
     "metadata": {},
     "output_type": "execute_result"
    }
   ],
   "source": [
    "# Para variables cualitativas\n",
    "\n",
    "InventarioFinal2016.describe(include = ['object']).T"
   ]
  },
  {
   "cell_type": "markdown",
   "metadata": {},
   "source": [
    "##### - Se puede apreciar que el campo 'City' tiene un conteo menor de registros."
   ]
  },
  {
   "cell_type": "markdown",
   "metadata": {},
   "source": [
    "### Nulos"
   ]
  },
  {
   "cell_type": "code",
   "execution_count": 6,
   "metadata": {},
   "outputs": [
    {
     "data": {
      "text/plain": [
       "np.int64(1284)"
      ]
     },
     "execution_count": 6,
     "metadata": {},
     "output_type": "execute_result"
    }
   ],
   "source": [
    "InventarioFinal2016.isnull().values.sum()"
   ]
  },
  {
   "cell_type": "code",
   "execution_count": 7,
   "metadata": {},
   "outputs": [
    {
     "name": "stdout",
     "output_type": "stream",
     "text": [
      "Filas con valores nulos encontradas:\n",
      "       InventoryId  Store City  Brand                   Description   Size  \\\n",
      "113895      46__58     46  NaN     58   Gekkeikan Black & Gold Sake  750mL   \n",
      "113896      46__62     46  NaN     62      Herradura Silver Tequila  750mL   \n",
      "113897      46__63     46  NaN     63    Herradura Reposado Tequila  750mL   \n",
      "113898      46__77     46  NaN     77   Three Olives Espresso Vodka  750mL   \n",
      "113899     46__106     46  NaN    106      Mr Boston Peach Schnapps  Liter   \n",
      "...            ...    ...  ...    ...                           ...    ...   \n",
      "115174   46__46447     46  NaN  46447         Gascon Malbec Mendoza  750mL   \n",
      "115175   46__46458     46  NaN  46458      Layer Cake Barosa Shiraz  750mL   \n",
      "115176   46__46476     46  NaN  46476          Tilia Malbec Mendoza  750mL   \n",
      "115177   46__46764     46  NaN  46764  Clayhouse Adobe Red Paso Rbl  750mL   \n",
      "115178   46__46830     46  NaN  46830         Pacific Rim Sweet Rsl  750mL   \n",
      "\n",
      "        onHand  Price     endDate  \n",
      "113895       0  12.99  2016-12-31  \n",
      "113896       0  36.99  2016-12-31  \n",
      "113897       0  38.99  2016-12-31  \n",
      "113898       0  14.99  2016-12-31  \n",
      "113899       0   4.49  2016-12-31  \n",
      "...        ...    ...         ...  \n",
      "115174       0  10.99  2016-12-31  \n",
      "115175       0  15.99  2016-12-31  \n",
      "115176       0   9.99  2016-12-31  \n",
      "115177       0  11.99  2016-12-31  \n",
      "115178       0   8.99  2016-12-31  \n",
      "\n",
      "[1284 rows x 9 columns]\n"
     ]
    }
   ],
   "source": [
    "#Verificar si hay filas con valores nulos\n",
    "filas_nulas = InventarioFinal2016.isnull().any(axis=1)\n",
    "\n",
    "#Mostrar filas con valores nulos\n",
    "filas_con_nulos = InventarioFinal2016[filas_nulas]\n",
    "\n",
    "#Imprimir las filas con valores nulos\n",
    "if not filas_con_nulos.empty:\n",
    "    print(\"Filas con valores nulos encontradas:\")\n",
    "    print(filas_con_nulos)\n",
    "else:\n",
    "    print(\"No se encontraron filas con valores nulos.\")"
   ]
  },
  {
   "cell_type": "markdown",
   "metadata": {},
   "source": [
    "##### - Hay 1,284 valores nulos en el campo 'City'."
   ]
  },
  {
   "cell_type": "markdown",
   "metadata": {},
   "source": [
    "# Limpieza y Procesamiento de Datos (ETL)"
   ]
  },
  {
   "cell_type": "markdown",
   "metadata": {},
   "source": [
    "### Completar los valores nulos"
   ]
  },
  {
   "cell_type": "code",
   "execution_count": 8,
   "metadata": {},
   "outputs": [
    {
     "name": "stderr",
     "output_type": "stream",
     "text": [
      "/var/folders/c6/d3t23tts3l9fhhydkx1_2_4m0000gp/T/ipykernel_7045/3816269605.py:4: FutureWarning: A value is trying to be set on a copy of a DataFrame or Series through chained assignment using an inplace method.\n",
      "The behavior will change in pandas 3.0. This inplace method will never work because the intermediate object on which we are setting values always behaves as a copy.\n",
      "\n",
      "For example, when doing 'df[col].method(value, inplace=True)', try using 'df.method({col: value}, inplace=True)' or df[col] = df[col].method(value) instead, to perform the operation inplace on the original object.\n",
      "\n",
      "\n",
      "  InventarioFinal2016['City'].fillna('TYWARDREATH', inplace = True)\n"
     ]
    }
   ],
   "source": [
    "# Se sabe que estos nulos pertenecen a la misma tienda\n",
    "# Reemplazar valores nulos en la columna 'City' con un valor específico, como 'Unknown'\n",
    "\n",
    "InventarioFinal2016['City'].fillna('TYWARDREATH', inplace = True)"
   ]
  },
  {
   "cell_type": "markdown",
   "metadata": {},
   "source": [
    "### Verificar los valores nulos"
   ]
  },
  {
   "cell_type": "code",
   "execution_count": 9,
   "metadata": {},
   "outputs": [
    {
     "name": "stdout",
     "output_type": "stream",
     "text": [
      "Valores nulos en 'City' después de reemplazo: 0\n"
     ]
    }
   ],
   "source": [
    "# Verificar si aún quedan valores nulos\n",
    "\n",
    "print(\"Valores nulos en 'City' después de reemplazo:\", InventarioFinal2016['City'].isnull().sum())"
   ]
  },
  {
   "cell_type": "markdown",
   "metadata": {},
   "source": [
    "### Guardar la data en archivo .CSV"
   ]
  },
  {
   "cell_type": "code",
   "execution_count": 10,
   "metadata": {},
   "outputs": [],
   "source": [
    "\n",
    "# Guardar el DataFrame filtrado en un archivo CSV\n",
    "InventarioFinal2016.to_csv('/Users/Macbook/DISLICORES/DISLICORES/CSVFinales/InventarioFinal2016.csv', index=False)\n"
   ]
  },
  {
   "cell_type": "markdown",
   "metadata": {},
   "source": [
    "# Visualización"
   ]
  },
  {
   "cell_type": "markdown",
   "metadata": {},
   "source": [
    "### Mapa de calor para la correlación de variables cuantitativas"
   ]
  },
  {
   "cell_type": "code",
   "execution_count": 11,
   "metadata": {},
   "outputs": [
    {
     "data": {
      "image/png": "[encoded data removed]",
      "text/plain": [
       "<Figure size 1000x800 with 2 Axes>"
      ]
     },
     "metadata": {},
     "output_type": "display_data"
    }
   ],
   "source": [
    "columns = ['Store', 'Brand', 'onHand', 'Price']\n",
    "correlation_matrix = InventarioFinal2016[columns].corr()\n",
    "plt.figure(figsize = (10, 8))\n",
    "sns.heatmap(correlation_matrix, annot = True, cmap = 'coolwarm', center = 0)\n",
    "plt.title('Matriz de correlación de variables cuantitativas')\n",
    "plt.show()"
   ]
  }
 ],
 "metadata": {
  "kernelspec": {
   "display_name": "Python 3",
   "language": "python",
   "name": "python3"
  },
  "language_info": {
   "codemirror_mode": {
    "name": "ipython",
    "version": 3
   },
   "file_extension": ".py",
   "mimetype": "text/x-python",
   "name": "python",
   "nbconvert_exporter": "python",
   "pygments_lexer": "ipython3",
   "version": "3.12.5"
  }
 },
 "nbformat": 4,
 "nbformat_minor": 2
}
