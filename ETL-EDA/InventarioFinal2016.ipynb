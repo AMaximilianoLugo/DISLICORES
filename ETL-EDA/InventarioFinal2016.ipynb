{
 "cells": [
  {
   "cell_type": "markdown",
   "metadata": {},
   "source": [
    "# Análisis Exploratorio de Datos (EDA)"
   ]
  },
  {
   "cell_type": "markdown",
   "metadata": {},
   "source": [
    "### Carga de Librerías"
   ]
  },
  {
   "cell_type": "code",
   "execution_count": 1,
   "metadata": {},
   "outputs": [],
   "source": [
    "import pandas as pd\n",
    "import numpy as np\n",
    "import matplotlib.pyplot as plt\n",
    "import seaborn as sns"
   ]
  },
  {
   "cell_type": "markdown",
   "metadata": {},
   "source": [
    "### Carga de Data"
   ]
  },
  {
   "cell_type": "code",
   "execution_count": 2,
   "metadata": {},
   "outputs": [],
   "source": [
    "InventarioFinal2016 = pd.read_csv(r\"C:\\Users\\USER\\Documents\\Henry\\Proyecto Final\\Datasets\\EndInvFINAL12312016.csv\")"
   ]
  },
  {
   "cell_type": "markdown",
   "metadata": {},
   "source": [
    "### Revisión Estructural"
   ]
  },
  {
   "cell_type": "code",
   "execution_count": 3,
   "metadata": {},
   "outputs": [
    {
     "data": {
      "text/html": [
       "<div>\n",
       "<style scoped>\n",
       "    .dataframe tbody tr th:only-of-type {\n",
       "        vertical-align: middle;\n",
       "    }\n",
       "\n",
       "    .dataframe tbody tr th {\n",
       "        vertical-align: top;\n",
       "    }\n",
       "\n",
       "    .dataframe thead th {\n",
       "        text-align: right;\n",
       "    }\n",
       "</style>\n",
       "<table border=\"1\" class=\"dataframe\">\n",
       "  <thead>\n",
       "    <tr style=\"text-align: right;\">\n",
       "      <th></th>\n",
       "      <th>InventoryId</th>\n",
       "      <th>Store</th>\n",
       "      <th>City</th>\n",
       "      <th>Brand</th>\n",
       "      <th>Description</th>\n",
       "      <th>Size</th>\n",
       "      <th>onHand</th>\n",
       "      <th>Price</th>\n",
       "      <th>endDate</th>\n",
       "    </tr>\n",
       "  </thead>\n",
       "  <tbody>\n",
       "    <tr>\n",
       "      <th>0</th>\n",
       "      <td>1_HARDERSFIELD_58</td>\n",
       "      <td>1</td>\n",
       "      <td>HARDERSFIELD</td>\n",
       "      <td>58</td>\n",
       "      <td>Gekkeikan Black &amp; Gold Sake</td>\n",
       "      <td>750mL</td>\n",
       "      <td>11</td>\n",
       "      <td>12.99</td>\n",
       "      <td>2016-12-31</td>\n",
       "    </tr>\n",
       "    <tr>\n",
       "      <th>1</th>\n",
       "      <td>1_HARDERSFIELD_62</td>\n",
       "      <td>1</td>\n",
       "      <td>HARDERSFIELD</td>\n",
       "      <td>62</td>\n",
       "      <td>Herradura Silver Tequila</td>\n",
       "      <td>750mL</td>\n",
       "      <td>7</td>\n",
       "      <td>36.99</td>\n",
       "      <td>2016-12-31</td>\n",
       "    </tr>\n",
       "    <tr>\n",
       "      <th>2</th>\n",
       "      <td>1_HARDERSFIELD_63</td>\n",
       "      <td>1</td>\n",
       "      <td>HARDERSFIELD</td>\n",
       "      <td>63</td>\n",
       "      <td>Herradura Reposado Tequila</td>\n",
       "      <td>750mL</td>\n",
       "      <td>7</td>\n",
       "      <td>38.99</td>\n",
       "      <td>2016-12-31</td>\n",
       "    </tr>\n",
       "    <tr>\n",
       "      <th>3</th>\n",
       "      <td>1_HARDERSFIELD_72</td>\n",
       "      <td>1</td>\n",
       "      <td>HARDERSFIELD</td>\n",
       "      <td>72</td>\n",
       "      <td>No. 3 London Dry Gin</td>\n",
       "      <td>750mL</td>\n",
       "      <td>4</td>\n",
       "      <td>34.99</td>\n",
       "      <td>2016-12-31</td>\n",
       "    </tr>\n",
       "    <tr>\n",
       "      <th>4</th>\n",
       "      <td>1_HARDERSFIELD_75</td>\n",
       "      <td>1</td>\n",
       "      <td>HARDERSFIELD</td>\n",
       "      <td>75</td>\n",
       "      <td>Three Olives Tomato Vodka</td>\n",
       "      <td>750mL</td>\n",
       "      <td>7</td>\n",
       "      <td>14.99</td>\n",
       "      <td>2016-12-31</td>\n",
       "    </tr>\n",
       "  </tbody>\n",
       "</table>\n",
       "</div>"
      ],
      "text/plain": [
       "         InventoryId  Store          City  Brand                  Description  \\\n",
       "0  1_HARDERSFIELD_58      1  HARDERSFIELD     58  Gekkeikan Black & Gold Sake   \n",
       "1  1_HARDERSFIELD_62      1  HARDERSFIELD     62     Herradura Silver Tequila   \n",
       "2  1_HARDERSFIELD_63      1  HARDERSFIELD     63   Herradura Reposado Tequila   \n",
       "3  1_HARDERSFIELD_72      1  HARDERSFIELD     72         No. 3 London Dry Gin   \n",
       "4  1_HARDERSFIELD_75      1  HARDERSFIELD     75    Three Olives Tomato Vodka   \n",
       "\n",
       "    Size  onHand  Price     endDate  \n",
       "0  750mL      11  12.99  2016-12-31  \n",
       "1  750mL       7  36.99  2016-12-31  \n",
       "2  750mL       7  38.99  2016-12-31  \n",
       "3  750mL       4  34.99  2016-12-31  \n",
       "4  750mL       7  14.99  2016-12-31  "
      ]
     },
     "execution_count": 3,
     "metadata": {},
     "output_type": "execute_result"
    }
   ],
   "source": [
    "InventarioFinal2016.head()"
   ]
  },
  {
   "cell_type": "code",
   "execution_count": 4,
   "metadata": {},
   "outputs": [
    {
     "data": {
      "text/plain": [
       "(224489, 9)"
      ]
     },
     "execution_count": 4,
     "metadata": {},
     "output_type": "execute_result"
    }
   ],
   "source": [
    "# Verificamos el tamaño original del DataFrame\n",
    "\n",
    "InventarioFinal2016.shape"
   ]
  },
  {
   "cell_type": "markdown",
   "metadata": {},
   "source": [
    "Se cuenta originalmente con 224,489 filas y 9 columnas."
   ]
  },
  {
   "cell_type": "code",
   "execution_count": 5,
   "metadata": {},
   "outputs": [
    {
     "name": "stdout",
     "output_type": "stream",
     "text": [
      "<class 'pandas.core.frame.DataFrame'>\n",
      "RangeIndex: 224489 entries, 0 to 224488\n",
      "Data columns (total 9 columns):\n",
      " #   Column       Non-Null Count   Dtype  \n",
      "---  ------       --------------   -----  \n",
      " 0   InventoryId  224489 non-null  object \n",
      " 1   Store        224489 non-null  int64  \n",
      " 2   City         223205 non-null  object \n",
      " 3   Brand        224489 non-null  int64  \n",
      " 4   Description  224489 non-null  object \n",
      " 5   Size         224489 non-null  object \n",
      " 6   onHand       224489 non-null  int64  \n",
      " 7   Price        224489 non-null  float64\n",
      " 8   endDate      224489 non-null  object \n",
      "dtypes: float64(1), int64(3), object(5)\n",
      "memory usage: 15.4+ MB\n",
      "None\n"
     ]
    }
   ],
   "source": [
    "# Información general de los campos\n",
    "\n",
    "print(InventarioFinal2016.info())"
   ]
  },
  {
   "cell_type": "markdown",
   "metadata": {},
   "source": [
    "En este análisis se puede apreciar que el campo 'endDate' tiene el tipo de dato object, lo cual no es correcto"
   ]
  },
  {
   "cell_type": "code",
   "execution_count": 6,
   "metadata": {},
   "outputs": [
    {
     "data": {
      "text/html": [
       "<div>\n",
       "<style scoped>\n",
       "    .dataframe tbody tr th:only-of-type {\n",
       "        vertical-align: middle;\n",
       "    }\n",
       "\n",
       "    .dataframe tbody tr th {\n",
       "        vertical-align: top;\n",
       "    }\n",
       "\n",
       "    .dataframe thead th {\n",
       "        text-align: right;\n",
       "    }\n",
       "</style>\n",
       "<table border=\"1\" class=\"dataframe\">\n",
       "  <thead>\n",
       "    <tr style=\"text-align: right;\">\n",
       "      <th></th>\n",
       "      <th>count</th>\n",
       "      <th>mean</th>\n",
       "      <th>std</th>\n",
       "      <th>min</th>\n",
       "      <th>25%</th>\n",
       "      <th>50%</th>\n",
       "      <th>75%</th>\n",
       "      <th>max</th>\n",
       "    </tr>\n",
       "  </thead>\n",
       "  <tbody>\n",
       "    <tr>\n",
       "      <th>Store</th>\n",
       "      <td>224489.0</td>\n",
       "      <td>43.505740</td>\n",
       "      <td>23.326415</td>\n",
       "      <td>1.00</td>\n",
       "      <td>23.00</td>\n",
       "      <td>44.00</td>\n",
       "      <td>66.00</td>\n",
       "      <td>81.0</td>\n",
       "    </tr>\n",
       "    <tr>\n",
       "      <th>Brand</th>\n",
       "      <td>224489.0</td>\n",
       "      <td>14356.370513</td>\n",
       "      <td>13118.467851</td>\n",
       "      <td>58.00</td>\n",
       "      <td>3798.00</td>\n",
       "      <td>8259.00</td>\n",
       "      <td>23965.00</td>\n",
       "      <td>90631.0</td>\n",
       "    </tr>\n",
       "    <tr>\n",
       "      <th>onHand</th>\n",
       "      <td>224489.0</td>\n",
       "      <td>21.763988</td>\n",
       "      <td>37.233576</td>\n",
       "      <td>0.00</td>\n",
       "      <td>7.00</td>\n",
       "      <td>12.00</td>\n",
       "      <td>22.00</td>\n",
       "      <td>3676.0</td>\n",
       "    </tr>\n",
       "    <tr>\n",
       "      <th>Price</th>\n",
       "      <td>224489.0</td>\n",
       "      <td>23.585583</td>\n",
       "      <td>79.202775</td>\n",
       "      <td>0.49</td>\n",
       "      <td>9.99</td>\n",
       "      <td>14.99</td>\n",
       "      <td>23.49</td>\n",
       "      <td>13999.9</td>\n",
       "    </tr>\n",
       "  </tbody>\n",
       "</table>\n",
       "</div>"
      ],
      "text/plain": [
       "           count          mean           std    min      25%      50%  \\\n",
       "Store   224489.0     43.505740     23.326415   1.00    23.00    44.00   \n",
       "Brand   224489.0  14356.370513  13118.467851  58.00  3798.00  8259.00   \n",
       "onHand  224489.0     21.763988     37.233576   0.00     7.00    12.00   \n",
       "Price   224489.0     23.585583     79.202775   0.49     9.99    14.99   \n",
       "\n",
       "             75%      max  \n",
       "Store      66.00     81.0  \n",
       "Brand   23965.00  90631.0  \n",
       "onHand     22.00   3676.0  \n",
       "Price      23.49  13999.9  "
      ]
     },
     "execution_count": 6,
     "metadata": {},
     "output_type": "execute_result"
    }
   ],
   "source": [
    "# Estadísticas Descriptivas - Variables Cuantitativas\n",
    "\n",
    "InventarioFinal2016.describe().T"
   ]
  },
  {
   "cell_type": "markdown",
   "metadata": {},
   "source": [
    "### Tratamiento de Duplicados"
   ]
  },
  {
   "cell_type": "code",
   "execution_count": 7,
   "metadata": {},
   "outputs": [
    {
     "name": "stdout",
     "output_type": "stream",
     "text": [
      "Cantidad de filas duplicadas: 0\n",
      "------------------------\n"
     ]
    }
   ],
   "source": [
    "# Verificamos filas duplicadas\n",
    "\n",
    "print(f\"Cantidad de filas duplicadas: {InventarioFinal2016.duplicated().sum()}\")\n",
    "print('------------------------')"
   ]
  },
  {
   "cell_type": "markdown",
   "metadata": {},
   "source": [
    "Se determinó que no existen duplicados en este DataFrame"
   ]
  },
  {
   "cell_type": "markdown",
   "metadata": {},
   "source": [
    "### Nulos"
   ]
  },
  {
   "cell_type": "code",
   "execution_count": 8,
   "metadata": {},
   "outputs": [
    {
     "name": "stdout",
     "output_type": "stream",
     "text": [
      "Cantidad de valores nulos por columna:\n",
      " InventoryId       0\n",
      "Store             0\n",
      "City           1284\n",
      "Brand             0\n",
      "Description       0\n",
      "Size              0\n",
      "onHand            0\n",
      "Price             0\n",
      "endDate           0\n",
      "dtype: int64 \n",
      "\n",
      "------------------------\n"
     ]
    }
   ],
   "source": [
    "# Verificamos la cantidad de valores nulos por campo\n",
    "\n",
    "print(\"Cantidad de valores nulos por columna:\\n\", InventarioFinal2016.isnull().sum(), \"\\n\")\n",
    "print('------------------------')"
   ]
  },
  {
   "cell_type": "markdown",
   "metadata": {},
   "source": [
    "Se determinó que existen 1,284 valores nulos en en campo 'City'"
   ]
  },
  {
   "cell_type": "markdown",
   "metadata": {},
   "source": [
    "# Limpieza y Procesamiento de Datos (ETL)"
   ]
  },
  {
   "cell_type": "markdown",
   "metadata": {},
   "source": [
    "### Conversión de tipo de dato"
   ]
  },
  {
   "cell_type": "code",
   "execution_count": 9,
   "metadata": {},
   "outputs": [],
   "source": [
    "# Convertir la columna 'endDate' a datetime\n",
    "\n",
    "InventarioFinal2016['endDate'] = pd.to_datetime(InventarioFinal2016['endDate'])"
   ]
  },
  {
   "cell_type": "code",
   "execution_count": 10,
   "metadata": {},
   "outputs": [
    {
     "name": "stdout",
     "output_type": "stream",
     "text": [
      "InventoryId            object\n",
      "Store                   int64\n",
      "City                   object\n",
      "Brand                   int64\n",
      "Description            object\n",
      "Size                   object\n",
      "onHand                  int64\n",
      "Price                 float64\n",
      "endDate        datetime64[ns]\n",
      "dtype: object\n"
     ]
    }
   ],
   "source": [
    "# Verificamos que se haya cambiado el tipo de dato \n",
    "\n",
    "print (InventarioFinal2016.dtypes)"
   ]
  },
  {
   "cell_type": "markdown",
   "metadata": {},
   "source": [
    "Se comprueba de que el tipo de dato se ha modificado a datetime"
   ]
  },
  {
   "cell_type": "markdown",
   "metadata": {},
   "source": [
    "### Limpieza de columnas"
   ]
  },
  {
   "cell_type": "markdown",
   "metadata": {},
   "source": [
    "Se detectaron varias irregularidades en el campo 'Size', como diferentes formatos para representar tamaños de productos (\"750mL\", \"375mL 2 Pk\", \"750mL + 3/\") y caracteres no deseados ('/'). Además, se encontraron términos como \"2 Pk\", \"3 Pk\" que indicaban productos empaquetados en múltiples unidades"
   ]
  },
  {
   "cell_type": "code",
   "execution_count": 11,
   "metadata": {},
   "outputs": [
    {
     "name": "stdout",
     "output_type": "stream",
     "text": [
      "         InventoryId  Store          City  Brand                  Description  \\\n",
      "0  1_HARDERSFIELD_58      1  HARDERSFIELD     58  Gekkeikan Black & Gold Sake   \n",
      "1  1_HARDERSFIELD_62      1  HARDERSFIELD     62     Herradura Silver Tequila   \n",
      "2  1_HARDERSFIELD_63      1  HARDERSFIELD     63   Herradura Reposado Tequila   \n",
      "3  1_HARDERSFIELD_72      1  HARDERSFIELD     72         No. 3 London Dry Gin   \n",
      "4  1_HARDERSFIELD_75      1  HARDERSFIELD     75    Three Olives Tomato Vodka   \n",
      "\n",
      "    Size  onHand  Price    endDate  QuantityPerPack  \n",
      "0  750mL      11  12.99 2016-12-31                1  \n",
      "1  750mL       7  36.99 2016-12-31                1  \n",
      "2  750mL       7  38.99 2016-12-31                1  \n",
      "3  750mL       4  34.99 2016-12-31                1  \n",
      "4  750mL       7  14.99 2016-12-31                1  \n"
     ]
    }
   ],
   "source": [
    "import re\n",
    "\n",
    "# Se desarrolló una función en Python (count_units_optimized) para extraer y contar las unidades en los \"packs\" (\"2 Pk\", \"3 Pk\")\n",
    "# Esta función creó una nueva columna ('QuantityPerPack') para reflejar el número de unidades por pack en cada registro\n",
    "# Función optimizada para contar las unidades\n",
    "\n",
    "def count_units_optimized(size):\n",
    "    try:\n",
    "        # Busca patrones de packs (\"Pk\") o \"+ X/\"\n",
    "        if 'Pk' in size:\n",
    "            # Extrae el número antes de \"Pk\"\n",
    "            match = re.search(r'(\\d+)\\s*Pk', size)\n",
    "            if match:\n",
    "                return int(match.group(1))\n",
    "        elif '+' in size:\n",
    "            # Extrae el número después del signo \"+\"\n",
    "            match = re.search(r'\\+\\s*(\\d+)', size)\n",
    "            if match:\n",
    "                return int(match.group(1))\n",
    "        # Devuelve 1 si no se encuentra un patrón relevante\n",
    "        return 1\n",
    "    except Exception as e:\n",
    "        # Manejo de errores en caso de entradas no esperadas\n",
    "        print(f\"Error procesando el valor {size}: {e}\")\n",
    "        return 1\n",
    "\n",
    "# Aplicar la función de forma vectorizada\n",
    "InventarioFinal2016['QuantityPerPack'] = InventarioFinal2016['Size'].apply(count_units_optimized)\n",
    "\n",
    "# Limpieza de la columna 'Size'\n",
    "InventarioFinal2016['Size'] = InventarioFinal2016['Size'].str.replace(r'(\\d+\\s*Pk)', '', regex=True)\n",
    "InventarioFinal2016['Size'] = InventarioFinal2016['Size'].str.replace(r'(\\+\\s*\\d+)', '', regex=True)\n",
    "InventarioFinal2016['Size'] = InventarioFinal2016['Size'].str.replace(r'/', '', regex=True)  # Eliminar el carácter '/'\n",
    "\n",
    "# Eliminar espacios en blanco adicionales\n",
    "InventarioFinal2016['Size'] = InventarioFinal2016['Size'].str.strip()\n",
    "\n",
    "# Mostrar los primeros resultados del DataFrame para validación\n",
    "print(InventarioFinal2016.head())"
   ]
  },
  {
   "cell_type": "code",
   "execution_count": 12,
   "metadata": {},
   "outputs": [
    {
     "name": "stdout",
     "output_type": "stream",
     "text": [
      "InventoryId                object\n",
      "Store                       int64\n",
      "City                       object\n",
      "Brand                       int64\n",
      "Description                object\n",
      "Size                       object\n",
      "onHand                      int64\n",
      "Price                     float64\n",
      "endDate            datetime64[ns]\n",
      "QuantityPerPack             int64\n",
      "dtype: object\n"
     ]
    }
   ],
   "source": [
    "# Nuevamente verificamos los tipos de datos \n",
    "\n",
    "print (InventarioFinal2016.dtypes)"
   ]
  },
  {
   "cell_type": "markdown",
   "metadata": {},
   "source": [
    "### Completar los valores nulos"
   ]
  },
  {
   "cell_type": "code",
   "execution_count": 13,
   "metadata": {},
   "outputs": [
    {
     "name": "stderr",
     "output_type": "stream",
     "text": [
      "C:\\Users\\USER\\AppData\\Local\\Temp\\ipykernel_24628\\1454200678.py:4: FutureWarning: A value is trying to be set on a copy of a DataFrame or Series through chained assignment using an inplace method.\n",
      "The behavior will change in pandas 3.0. This inplace method will never work because the intermediate object on which we are setting values always behaves as a copy.\n",
      "\n",
      "For example, when doing 'df[col].method(value, inplace=True)', try using 'df.method({col: value}, inplace=True)' or df[col] = df[col].method(value) instead, to perform the operation inplace on the original object.\n",
      "\n",
      "\n",
      "  InventarioFinal2016['City'].fillna('UNKNOWN', inplace = True)\n"
     ]
    }
   ],
   "source": [
    "# Se sabe que estos nulos pertenecen a la misma tienda\n",
    "# Reemplazar valores nulos en la columna 'City' con un valor específico, como 'UNKNOWN'\n",
    "\n",
    "InventarioFinal2016['City'].fillna('UNKNOWN', inplace = True)"
   ]
  },
  {
   "cell_type": "markdown",
   "metadata": {},
   "source": [
    "### Verificar los valores nulos"
   ]
  },
  {
   "cell_type": "code",
   "execution_count": 14,
   "metadata": {},
   "outputs": [
    {
     "name": "stdout",
     "output_type": "stream",
     "text": [
      "Valores nulos en 'City' después de reemplazo: 0\n"
     ]
    }
   ],
   "source": [
    "# Verificar si aún quedan valores nulos\n",
    "\n",
    "print(\"Valores nulos en 'City' después de reemplazo:\", InventarioFinal2016['City'].isnull().sum())"
   ]
  },
  {
   "cell_type": "code",
   "execution_count": 15,
   "metadata": {},
   "outputs": [
    {
     "name": "stdout",
     "output_type": "stream",
     "text": [
      "Cantidad de valores nulos por columna:\n",
      " InventoryId        0\n",
      "Store              0\n",
      "City               0\n",
      "Brand              0\n",
      "Description        0\n",
      "Size               0\n",
      "onHand             0\n",
      "Price              0\n",
      "endDate            0\n",
      "QuantityPerPack    0\n",
      "dtype: int64 \n",
      "\n",
      "------------------------\n"
     ]
    }
   ],
   "source": [
    "# Nuevamente verificamos la cantidad de valores nulos por campo\n",
    "\n",
    "print(\"Cantidad de valores nulos por columna:\\n\", InventarioFinal2016.isnull().sum(), \"\\n\")\n",
    "print('------------------------')"
   ]
  },
  {
   "cell_type": "markdown",
   "metadata": {},
   "source": [
    "Se puede visualizar que ya no contamos con valores nulos"
   ]
  },
  {
   "cell_type": "markdown",
   "metadata": {},
   "source": [
    "### Renombrar los campos"
   ]
  },
  {
   "cell_type": "code",
   "execution_count": 16,
   "metadata": {},
   "outputs": [],
   "source": [
    "# Para un mejor entendimiento, se han renombrado algunos campos\n",
    "\n",
    "InventarioFinal2016 = InventarioFinal2016.rename(columns={\n",
    "    'InventoryID': 'InventoryFinalID',\n",
    "    'Store': 'StoreID',\n",
    "    'Brand': 'BrandID',\n",
    "    'onHand': 'OnHand',\n",
    "    'endDate': 'EndDate'\n",
    "    })"
   ]
  },
  {
   "cell_type": "code",
   "execution_count": 17,
   "metadata": {},
   "outputs": [
    {
     "name": "stdout",
     "output_type": "stream",
     "text": [
      "InventoryId                object\n",
      "StoreID                     int64\n",
      "City                       object\n",
      "BrandID                     int64\n",
      "Description                object\n",
      "Size                       object\n",
      "OnHand                      int64\n",
      "Price                     float64\n",
      "EndDate            datetime64[ns]\n",
      "QuantityPerPack             int64\n",
      "dtype: object\n"
     ]
    }
   ],
   "source": [
    "# Verificar que se hayan modificado correctamente los datos \n",
    "\n",
    "print(InventarioFinal2016.dtypes)"
   ]
  },
  {
   "cell_type": "markdown",
   "metadata": {},
   "source": [
    "### Guardar la data en archivo .CSV"
   ]
  },
  {
   "cell_type": "code",
   "execution_count": 18,
   "metadata": {},
   "outputs": [],
   "source": [
    "InventarioFinal2016.to_csv('InventarioFinal2016.csv', index = False)"
   ]
  }
 ],
 "metadata": {
  "kernelspec": {
   "display_name": "Python 3",
   "language": "python",
   "name": "python3"
  },
  "language_info": {
   "codemirror_mode": {
    "name": "ipython",
    "version": 3
   },
   "file_extension": ".py",
   "mimetype": "text/x-python",
   "name": "python",
   "nbconvert_exporter": "python",
   "pygments_lexer": "ipython3",
   "version": "3.12.5"
  }
 },
 "nbformat": 4,
 "nbformat_minor": 2
}
