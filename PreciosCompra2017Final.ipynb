{
 "cells": [
  {
   "cell_type": "code",
   "execution_count": 7,
   "metadata": {},
   "outputs": [
    {
     "name": "stdout",
     "output_type": "stream",
     "text": [
      "Brand             0\n",
      "Description       1\n",
      "Price             0\n",
      "Size              1\n",
      "Volume            1\n",
      "Classification    0\n",
      "PurchasePrice     0\n",
      "VendorNumber      0\n",
      "VendorName        0\n",
      "dtype: int64\n",
      "Limpieza de datos completada y guardada.\n"
     ]
    },
    {
     "name": "stderr",
     "output_type": "stream",
     "text": [
      "/var/folders/c6/d3t23tts3l9fhhydkx1_2_4m0000gp/T/ipykernel_13930/866263726.py:10: FutureWarning: A value is trying to be set on a copy of a DataFrame or Series through chained assignment using an inplace method.\n",
      "The behavior will change in pandas 3.0. This inplace method will never work because the intermediate object on which we are setting values always behaves as a copy.\n",
      "\n",
      "For example, when doing 'df[col].method(value, inplace=True)', try using 'df.method({col: value}, inplace=True)' or df[col] = df[col].method(value) instead, to perform the operation inplace on the original object.\n",
      "\n",
      "\n",
      "  purchase_prices['Price'].fillna(purchase_prices['Price'].mean(), inplace=True)\n",
      "/var/folders/c6/d3t23tts3l9fhhydkx1_2_4m0000gp/T/ipykernel_13930/866263726.py:13: FutureWarning: A value is trying to be set on a copy of a DataFrame or Series through chained assignment using an inplace method.\n",
      "The behavior will change in pandas 3.0. This inplace method will never work because the intermediate object on which we are setting values always behaves as a copy.\n",
      "\n",
      "For example, when doing 'df[col].method(value, inplace=True)', try using 'df.method({col: value}, inplace=True)' or df[col] = df[col].method(value) instead, to perform the operation inplace on the original object.\n",
      "\n",
      "\n",
      "  purchase_prices['PurchasePrice'].fillna(purchase_prices['PurchasePrice'].mean(), inplace=True)\n"
     ]
    }
   ],
   "source": [
    "import pandas as pd\n",
    "\n",
    "# Cargar el archivo CSV\n",
    "purchase_prices = pd.read_csv('/Users/Macbook/Downloads/InventoryDataset/2017PurchasePricesDec.csv')\n",
    "\n",
    "# Verificar valores nulos\n",
    "print(purchase_prices.isnull().sum())\n",
    "\n",
    "# Rellenar valores nulos en 'Price' con la media\n",
    "purchase_prices['Price'].fillna(purchase_prices['Price'].mean(), inplace=True)\n",
    "\n",
    "# Rellenar valores nulos en 'PurchasePrice' con la media\n",
    "purchase_prices['PurchasePrice'].fillna(purchase_prices['PurchasePrice'].mean(), inplace=True)\n",
    "\n",
    "# Eliminar duplicados\n",
    "purchase_prices.drop_duplicates(inplace=True)\n",
    "\n",
    "# Guardar los datos limpios en un nuevo archivo\n",
    "purchase_prices.to_csv('/Users/Macbook/Downloads/InventoryDataset/2017PurchasePricesDec_cleaned.csv', index=False)\n",
    "\n",
    "print(\"Limpieza de datos completada y guardada.\")\n"
   ]
  }
 ],
 "metadata": {
  "kernelspec": {
   "display_name": "Python 3",
   "language": "python",
   "name": "python3"
  },
  "language_info": {
   "codemirror_mode": {
    "name": "ipython",
    "version": 3
   },
   "file_extension": ".py",
   "mimetype": "text/x-python",
   "name": "python",
   "nbconvert_exporter": "python",
   "pygments_lexer": "ipython3",
   "version": "3.12.5"
  }
 },
 "nbformat": 4,
 "nbformat_minor": 2
}
