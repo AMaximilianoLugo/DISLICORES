{
 "cells": [
  {
   "cell_type": "code",
   "execution_count": 157,
   "metadata": {},
   "outputs": [],
   "source": [
    "import pandas as pd \n",
    "import numpy as np"
   ]
  },
  {
   "cell_type": "code",
   "execution_count": 158,
   "metadata": {},
   "outputs": [],
   "source": [
    "facturacompras=pd.read_csv(\"D:\\\\INVENTORY\\\\InvoicePurchases12312016.csv\")\n",
    "\n",
    "facturacompras.to_csv(\"facturacompras.csv\")"
   ]
  },
  {
   "cell_type": "code",
   "execution_count": 159,
   "metadata": {},
   "outputs": [
    {
     "data": {
      "text/plain": [
       "Index(['VendorNumber', 'VendorName', 'InvoiceDate', 'PONumber', 'PODate',\n",
       "       'PayDate', 'Quantity', 'Dollars', 'Freight', 'Approval'],\n",
       "      dtype='object')"
      ]
     },
     "execution_count": 159,
     "metadata": {},
     "output_type": "execute_result"
    }
   ],
   "source": [
    "# obtenemos el nombre de las columnas \n",
    "facturacompras.columns"
   ]
  },
  {
   "cell_type": "code",
   "execution_count": 160,
   "metadata": {},
   "outputs": [
    {
     "name": "stdout",
     "output_type": "stream",
     "text": [
      "<class 'pandas.core.frame.DataFrame'>\n",
      "RangeIndex: 5543 entries, 0 to 5542\n",
      "Data columns (total 10 columns):\n",
      " #   Column        Non-Null Count  Dtype  \n",
      "---  ------        --------------  -----  \n",
      " 0   VendorNumber  5543 non-null   int64  \n",
      " 1   VendorName    5543 non-null   object \n",
      " 2   InvoiceDate   5543 non-null   object \n",
      " 3   PONumber      5543 non-null   int64  \n",
      " 4   PODate        5543 non-null   object \n",
      " 5   PayDate       5543 non-null   object \n",
      " 6   Quantity      5543 non-null   int64  \n",
      " 7   Dollars       5543 non-null   float64\n",
      " 8   Freight       5543 non-null   float64\n",
      " 9   Approval      374 non-null    object \n",
      "dtypes: float64(2), int64(3), object(5)\n",
      "memory usage: 433.2+ KB\n"
     ]
    }
   ],
   "source": [
    "# indica informacion sobre las columnas , en este caso su uso es para saber el tipo de dato \n",
    "facturacompras.info()"
   ]
  },
  {
   "cell_type": "code",
   "execution_count": 161,
   "metadata": {},
   "outputs": [
    {
     "name": "stdout",
     "output_type": "stream",
     "text": [
      "VendorNumber       0\n",
      "VendorName         0\n",
      "InvoiceDate        0\n",
      "PONumber           0\n",
      "PODate             0\n",
      "PayDate            0\n",
      "Quantity           0\n",
      "Dollars            0\n",
      "Freight            0\n",
      "Approval        5169\n",
      "dtype: int64\n"
     ]
    }
   ],
   "source": [
    "# verificamos si hay valores nulos en el dataframe \n",
    "print(facturacompras.isnull().sum())"
   ]
  },
  {
   "cell_type": "code",
   "execution_count": 162,
   "metadata": {},
   "outputs": [
    {
     "name": "stdout",
     "output_type": "stream",
     "text": [
      "Filas con valores nulos encontradas:\n",
      "      VendorNumber                   VendorName InvoiceDate  PONumber  \\\n",
      "0              105  ALTAMAR BRANDS LLC           2016-01-04      8124   \n",
      "1             4466  AMERICAN VINTAGE BEVERAGE    2016-01-07      8137   \n",
      "2              388  ATLANTIC IMPORTING COMPANY   2016-01-09      8169   \n",
      "3              480  BACARDI USA INC              2016-01-12      8106   \n",
      "4              516  BANFI PRODUCTS CORP          2016-01-07      8170   \n",
      "...            ...                          ...         ...       ...   \n",
      "5538          9622  WEIN BAUER INC               2017-01-06     13626   \n",
      "5539          9625  WESTERN SPIRITS BEVERAGE CO  2017-01-10     13661   \n",
      "5540          3664  WILLIAM GRANT & SONS INC     2017-01-02     13643   \n",
      "5541          9815  WINE GROUP INC               2017-01-03     13602   \n",
      "5542         90058  ZORVINO VINEYARDS            2017-01-05     13574   \n",
      "\n",
      "          PODate     PayDate  Quantity    Dollars  Freight Approval  \n",
      "0     2015-12-21  2016-02-16         6     214.26     3.47      NaN  \n",
      "1     2015-12-22  2016-02-21        15     140.55     8.57      NaN  \n",
      "2     2015-12-24  2016-02-16         5     106.60     4.61      NaN  \n",
      "3     2015-12-20  2016-02-05     10100  137483.78  2935.20      NaN  \n",
      "4     2015-12-24  2016-02-12      1935   15527.25   429.20      NaN  \n",
      "...          ...         ...       ...        ...      ...      ...  \n",
      "5538  2016-12-21  2017-02-10        90    1563.00     8.60      NaN  \n",
      "5539  2016-12-23  2017-02-18      4617   37300.48   186.50      NaN  \n",
      "5540  2016-12-22  2017-02-04      9848  202815.78   932.95      NaN  \n",
      "5541  2016-12-20  2017-02-08     24747  149007.56   819.54      NaN  \n",
      "5542  2016-12-18  2017-02-12       437    3608.11    16.60      NaN  \n",
      "\n",
      "[5169 rows x 10 columns]\n"
     ]
    }
   ],
   "source": [
    "#Verificamos las filas con valores nulos\n",
    "Compras_filas_nulas = facturacompras.isnull().any(axis=1)\n",
    "\n",
    "#filas con valores nulos\n",
    "Compras_filas_con_nulos = facturacompras [Compras_filas_nulas]\n",
    "\n",
    "#se imprimira un mensaje si no hay filas con nulos , caso contrario se mostraran las filas con valores ausentes\n",
    "if  Compras_filas_con_nulos.empty:\n",
    "    print(\"No se encontraron filas con valores nulos.\")\n",
    "else:\n",
    "    print(\"Filas con valores nulos encontradas:\")\n",
    "    print(Compras_filas_con_nulos)\n",
    "    "
   ]
  },
  {
   "cell_type": "code",
   "execution_count": 163,
   "metadata": {},
   "outputs": [
    {
     "name": "stdout",
     "output_type": "stream",
     "text": [
      "Número de filas duplicadas en la tabla de factura_compras: 0\n"
     ]
    }
   ],
   "source": [
    "# averiguar si existen filas duplicadas\n",
    "filas_duplicadas = facturacompras.duplicated()\n",
    "\n",
    "# recuento de las filas duplicadas\n",
    "contar_filas_duplicadas = filas_duplicadas.sum()\n",
    "\n",
    "# Mostramos el número de filas duplicadas\n",
    "print(f'Número de filas duplicadas en la tabla de factura_compras: {contar_filas_duplicadas}')\n",
    "\n",
    "#mostramos las filas filas duplicadas \n",
    "if contar_filas_duplicadas > 0:\n",
    "    print(\"Filas duplicadas en la tabla Producto:\")\n",
    "    print(facturacompras[filas_duplicadas])"
   ]
  },
  {
   "cell_type": "code",
   "execution_count": 164,
   "metadata": {},
   "outputs": [
    {
     "name": "stdout",
     "output_type": "stream",
     "text": [
      "No hay valores negativos en el Dataframe.\n"
     ]
    }
   ],
   "source": [
    "#Verificamos solo las columnas numericas con valores negativos \n",
    "negativos = facturacompras.select_dtypes(include=['number']) < 0\n",
    "\n",
    "# Obtenemos los nombres de las columnas que tienen valores negativos\n",
    "columnas_negativas = negativos.any()\n",
    "\n",
    "# Filtramos las columnas que tienen al menos un valor negativo\n",
    "columnas_con_negativos = columnas_negativas[columnas_negativas].index.tolist()\n",
    "\n",
    "# Imprimimos los resultados\n",
    "if columnas_con_negativos:\n",
    "    print(f\"Columnas con valores negativos: {columnas_con_negativos}\")\n",
    "    for column in columnas_con_negativos:\n",
    "        print(f\"\\nValores negativos en la columna '{column}':\")\n",
    "        print(facturacompras[facturacompras[column] < 0]) # muestra las filas negativas\n",
    "else:\n",
    "    print(\"No hay valores negativos en el Dataframe.\")"
   ]
  },
  {
   "cell_type": "code",
   "execution_count": 165,
   "metadata": {},
   "outputs": [
    {
     "name": "stdout",
     "output_type": "stream",
     "text": [
      "   VendorNumber                   VendorName InvoiceDate  PONumber  \\\n",
      "0           105  ALTAMAR BRANDS LLC           2016-01-04      8124   \n",
      "1          4466  AMERICAN VINTAGE BEVERAGE    2016-01-07      8137   \n",
      "2           388  ATLANTIC IMPORTING COMPANY   2016-01-09      8169   \n",
      "3           480  BACARDI USA INC              2016-01-12      8106   \n",
      "4           516  BANFI PRODUCTS CORP          2016-01-07      8170   \n",
      "\n",
      "       PODate     PayDate  Quantity    Dollars  Freight     Approval  \n",
      "0  2015-12-21  2016-02-16         6     214.26     3.47  Sin Aplicar  \n",
      "1  2015-12-22  2016-02-21        15     140.55     8.57  Sin Aplicar  \n",
      "2  2015-12-24  2016-02-16         5     106.60     4.61  Sin Aplicar  \n",
      "3  2015-12-20  2016-02-05     10100  137483.78  2935.20  Sin Aplicar  \n",
      "4  2015-12-24  2016-02-12      1935   15527.25   429.20  Sin Aplicar  \n"
     ]
    }
   ],
   "source": [
    "# Reemplazamos los valores nulos en la columna 'Approval' con 'No Aplica'\n",
    "facturacompras['Approval'] = facturacompras['Approval'].fillna('Sin Aplicar')\n",
    "\n",
    "# Mostrar las primeras filas  para verificar el cambio\n",
    "print(facturacompras.head())"
   ]
  },
  {
   "cell_type": "code",
   "execution_count": 166,
   "metadata": {},
   "outputs": [
    {
     "name": "stdout",
     "output_type": "stream",
     "text": [
      "No se encontraron filas con valores nulos.\n"
     ]
    }
   ],
   "source": [
    "#Verificamos las filas con valores nulos\n",
    "Compras_filas_nulas = facturacompras.isnull().any(axis=1)\n",
    "\n",
    "#Mostramos las filas con valores nulos\n",
    "Compras_filas_con_nulos = facturacompras [Compras_filas_nulas]\n",
    "\n",
    "#Imprimimos las filas con valores nulos\n",
    "if not Compras_filas_con_nulos.empty:\n",
    "    print(\"Filas con valores nulos encontradas:\")\n",
    "    print(Compras_filas_con_nulos)\n",
    "else:\n",
    "    print(\"No se encontraron filas con valores nulos.\")"
   ]
  },
  {
   "cell_type": "code",
   "execution_count": 167,
   "metadata": {},
   "outputs": [],
   "source": [
    "facturacompras.to_csv(\"facturacompras.csv\")"
   ]
  },
  {
   "cell_type": "code",
   "execution_count": 168,
   "metadata": {},
   "outputs": [
    {
     "name": "stdout",
     "output_type": "stream",
     "text": [
      "<class 'pandas.core.frame.DataFrame'>\n",
      "RangeIndex: 5543 entries, 0 to 5542\n",
      "Data columns (total 10 columns):\n",
      " #   Column        Non-Null Count  Dtype  \n",
      "---  ------        --------------  -----  \n",
      " 0   VendorNumber  5543 non-null   int64  \n",
      " 1   VendorName    5543 non-null   object \n",
      " 2   InvoiceDate   5543 non-null   object \n",
      " 3   PONumber      5543 non-null   int64  \n",
      " 4   PODate        5543 non-null   object \n",
      " 5   PayDate       5543 non-null   object \n",
      " 6   Quantity      5543 non-null   int64  \n",
      " 7   Dollars       5543 non-null   float64\n",
      " 8   Freight       5543 non-null   float64\n",
      " 9   Approval      5543 non-null   object \n",
      "dtypes: float64(2), int64(3), object(5)\n",
      "memory usage: 433.2+ KB\n"
     ]
    }
   ],
   "source": [
    "facturacompras.info()"
   ]
  },
  {
   "cell_type": "code",
   "execution_count": 169,
   "metadata": {},
   "outputs": [],
   "source": [
    "# Cambiar el tipo de dato de las columnas de fecha \n",
    "\n",
    "facturacompras['InvoiceDate']=pd.to_datetime(facturacompras['InvoiceDate'])\n",
    "facturacompras['PODate']=pd.to_datetime(facturacompras['PODate'])\n",
    "facturacompras['PayDate']=pd.to_datetime(facturacompras['PayDate'])"
   ]
  },
  {
   "cell_type": "code",
   "execution_count": 170,
   "metadata": {},
   "outputs": [
    {
     "name": "stdout",
     "output_type": "stream",
     "text": [
      "<class 'pandas.core.frame.DataFrame'>\n",
      "RangeIndex: 5543 entries, 0 to 5542\n",
      "Data columns (total 10 columns):\n",
      " #   Column        Non-Null Count  Dtype         \n",
      "---  ------        --------------  -----         \n",
      " 0   VendorNumber  5543 non-null   int64         \n",
      " 1   VendorName    5543 non-null   object        \n",
      " 2   InvoiceDate   5543 non-null   datetime64[ns]\n",
      " 3   PONumber      5543 non-null   int64         \n",
      " 4   PODate        5543 non-null   datetime64[ns]\n",
      " 5   PayDate       5543 non-null   datetime64[ns]\n",
      " 6   Quantity      5543 non-null   int64         \n",
      " 7   Dollars       5543 non-null   float64       \n",
      " 8   Freight       5543 non-null   float64       \n",
      " 9   Approval      5543 non-null   object        \n",
      "dtypes: datetime64[ns](3), float64(2), int64(3), object(2)\n",
      "memory usage: 433.2+ KB\n"
     ]
    }
   ],
   "source": [
    "# verificar el tipo de dato de cada columna \n",
    "facturacompras.info()"
   ]
  },
  {
   "cell_type": "code",
   "execution_count": 171,
   "metadata": {},
   "outputs": [
    {
     "name": "stdout",
     "output_type": "stream",
     "text": [
      "       VendorNumber                    InvoiceDate      PONumber  \\\n",
      "count    5543.00000                           5543   5543.000000   \n",
      "mean    20662.75212  2016-07-10 18:59:25.578206720  10889.419087   \n",
      "min         2.00000            2016-01-04 00:00:00   8106.000000   \n",
      "25%      3089.00000            2016-04-11 00:00:00   9503.500000   \n",
      "50%      7240.00000            2016-07-11 00:00:00  10890.000000   \n",
      "75%     10754.00000            2016-10-09 00:00:00  12275.500000   \n",
      "max    201359.00000            2017-01-10 00:00:00  13661.000000   \n",
      "std     34582.15841                            NaN   1600.859969   \n",
      "\n",
      "                              PODate                     PayDate  \\\n",
      "count                           5543                        5543   \n",
      "mean   2016-06-24 08:48:08.832762112  2016-08-15 06:14:05.607072   \n",
      "min              2015-12-20 00:00:00         2016-02-04 00:00:00   \n",
      "25%              2016-03-24 12:00:00         2016-05-16 00:00:00   \n",
      "50%              2016-06-25 00:00:00         2016-08-15 00:00:00   \n",
      "75%              2016-09-23 00:00:00         2016-11-14 00:00:00   \n",
      "max              2016-12-23 00:00:00         2017-02-19 00:00:00   \n",
      "std                              NaN                         NaN   \n",
      "\n",
      "            Quantity       Dollars      Freight  \n",
      "count    5543.000000  5.543000e+03  5543.000000  \n",
      "mean     6058.880931  5.807338e+04   295.954301  \n",
      "min         1.000000  4.140000e+00     0.020000  \n",
      "25%        83.000000  9.678100e+02     5.020000  \n",
      "50%       423.000000  4.765450e+03    24.730000  \n",
      "75%      5100.500000  4.458718e+04   229.660000  \n",
      "max    141660.000000  1.660436e+06  8468.220000  \n",
      "std     14453.338164  1.402340e+05   713.585093  \n"
     ]
    }
   ],
   "source": [
    "print(facturacompras.describe())"
   ]
  },
  {
   "cell_type": "markdown",
   "metadata": {},
   "source": [
    "### Analisis Exploratorio de Datos"
   ]
  },
  {
   "cell_type": "markdown",
   "metadata": {},
   "source": [
    "#### El Análisis Exploratorio de Datos (EDA) es una etapa crucial en el análisis de datos que se realiza antes de aplicar técnicas analíticas más avanzadas. Su propósito principal es explorar y comprender el conjunto de datos para facilitar la toma de decisiones y la preparación para análisis posteriores. Durante el EDA, se examina la estructura general del conjunto de datos, identificando las variables y sus tipos. También se buscan patrones y relaciones entre las variables para entender mejor la información contenida en los datos.\n",
    "\n",
    "#### De esta forma podremos  detectar anomalías, como valores atípicos o inconsistencias, y en evaluar la calidad de los datos, identificando y tratando datos faltantes o duplicados. Se realiza un análisis estadístico descriptivo para obtener medidas clave como la media, la mediana y la desviación estándar. Esta fase permite obtener una visión clara y completa del conjunto de datos, lo que facilita la preparación y el análisis más detallado en etapas posteriores del proceso analítico.\n",
    "\n",
    "\n",
    "\n",
    "\n",
    "\n"
   ]
  },
  {
   "cell_type": "code",
   "execution_count": 172,
   "metadata": {},
   "outputs": [
    {
     "name": "stdout",
     "output_type": "stream",
     "text": [
      "|VendorNumber| \n",
      "\n",
      "count      5543.00000\n",
      "mean      20662.75212\n",
      "std       34582.15841\n",
      "min           2.00000\n",
      "25%        3089.00000\n",
      "50%        7240.00000\n",
      "75%       10754.00000\n",
      "max      201359.00000\n",
      "Name: VendorNumber, dtype: float64\n",
      "------------------------------------\n",
      "|VendorName| \n",
      "\n",
      "count                            5543\n",
      "unique                            129\n",
      "top       MHW LTD                    \n",
      "freq                               55\n",
      "Name: VendorName, dtype: object\n",
      "------------------------------------\n",
      "|InvoiceDate| \n",
      "\n",
      "count                             5543\n",
      "mean     2016-07-10 18:59:25.578206720\n",
      "min                2016-01-04 00:00:00\n",
      "25%                2016-04-11 00:00:00\n",
      "50%                2016-07-11 00:00:00\n",
      "75%                2016-10-09 00:00:00\n",
      "max                2017-01-10 00:00:00\n",
      "Name: InvoiceDate, dtype: object\n",
      "------------------------------------\n",
      "|PONumber| \n",
      "\n",
      "count     5543.000000\n",
      "mean     10889.419087\n",
      "std       1600.859969\n",
      "min       8106.000000\n",
      "25%       9503.500000\n",
      "50%      10890.000000\n",
      "75%      12275.500000\n",
      "max      13661.000000\n",
      "Name: PONumber, dtype: float64\n",
      "------------------------------------\n",
      "|PODate| \n",
      "\n",
      "count                             5543\n",
      "mean     2016-06-24 08:48:08.832762112\n",
      "min                2015-12-20 00:00:00\n",
      "25%                2016-03-24 12:00:00\n",
      "50%                2016-06-25 00:00:00\n",
      "75%                2016-09-23 00:00:00\n",
      "max                2016-12-23 00:00:00\n",
      "Name: PODate, dtype: object\n",
      "------------------------------------\n",
      "|PayDate| \n",
      "\n",
      "count                          5543\n",
      "mean     2016-08-15 06:14:05.607072\n",
      "min             2016-02-04 00:00:00\n",
      "25%             2016-05-16 00:00:00\n",
      "50%             2016-08-15 00:00:00\n",
      "75%             2016-11-14 00:00:00\n",
      "max             2017-02-19 00:00:00\n",
      "Name: PayDate, dtype: object\n",
      "------------------------------------\n",
      "|Quantity| \n",
      "\n",
      "count      5543.000000\n",
      "mean       6058.880931\n",
      "std       14453.338164\n",
      "min           1.000000\n",
      "25%          83.000000\n",
      "50%         423.000000\n",
      "75%        5100.500000\n",
      "max      141660.000000\n",
      "Name: Quantity, dtype: float64\n",
      "------------------------------------\n",
      "|Dollars| \n",
      "\n",
      "count    5.543000e+03\n",
      "mean     5.807338e+04\n",
      "std      1.402340e+05\n",
      "min      4.140000e+00\n",
      "25%      9.678100e+02\n",
      "50%      4.765450e+03\n",
      "75%      4.458718e+04\n",
      "max      1.660436e+06\n",
      "Name: Dollars, dtype: float64\n",
      "------------------------------------\n",
      "|Freight| \n",
      "\n",
      "count    5543.000000\n",
      "mean      295.954301\n",
      "std       713.585093\n",
      "min         0.020000\n",
      "25%         5.020000\n",
      "50%        24.730000\n",
      "75%       229.660000\n",
      "max      8468.220000\n",
      "Name: Freight, dtype: float64\n",
      "------------------------------------\n",
      "|Approval| \n",
      "\n",
      "count            5543\n",
      "unique              2\n",
      "top       Sin Aplicar\n",
      "freq             5169\n",
      "Name: Approval, dtype: object\n",
      "------------------------------------\n"
     ]
    }
   ],
   "source": [
    "for i in facturacompras.columns:\n",
    "    print(f'|{i}|','\\n',)\n",
    "    print(facturacompras[i].describe())\n",
    "    print('------------------------------------')\n",
    "    \n",
    "   "
   ]
  },
  {
   "cell_type": "code",
   "execution_count": 173,
   "metadata": {},
   "outputs": [
    {
     "name": "stdout",
     "output_type": "stream",
     "text": [
      "\n",
      "Estadísticas para la columna 'VendorNumber':\n",
      "Número total de valores (incluyendo nulos): 5543\n",
      "Número total de valores: 5543\n",
      "Número de valores únicos: 126\n",
      "Valor más frecuente (top): 4425\n",
      "Frecuencia del valor más frecuente (freq): 82\n",
      "Valor mínimo: 2\n",
      "Valor maximo: 201359\n",
      "Media: 20662.752119790726\n",
      "\n",
      "Estadísticas para la columna 'PONumber':\n",
      "Número total de valores (incluyendo nulos): 5543\n",
      "Número total de valores: 5543\n",
      "Número de valores únicos: 5543\n",
      "Valor más frecuente (top): 8106\n",
      "Frecuencia del valor más frecuente (freq): 1\n",
      "Valor mínimo: 8106\n",
      "Valor maximo: 13661\n",
      "Media: 10889.41908713693\n",
      "\n",
      "Estadísticas para la columna 'Quantity':\n",
      "Número total de valores (incluyendo nulos): 5543\n",
      "Número total de valores: 5543\n",
      "Número de valores únicos: 2895\n",
      "Valor más frecuente (top): 12\n",
      "Frecuencia del valor más frecuente (freq): 228\n",
      "Valor mínimo: 1\n",
      "Valor maximo: 141660\n",
      "Media: 6058.880930903842\n",
      "\n",
      "Estadísticas para la columna 'Dollars':\n",
      "Número total de valores (incluyendo nulos): 5543\n",
      "Número total de valores: 5543\n",
      "Número de valores únicos: 5226\n",
      "Valor más frecuente (top): 214.26\n",
      "Frecuencia del valor más frecuente (freq): 22\n",
      "Valor mínimo: 4.14\n",
      "Valor maximo: 1660435.88\n",
      "Media: 58073.383642431894\n",
      "\n",
      "Estadísticas para la columna 'Freight':\n",
      "Número total de valores (incluyendo nulos): 5543\n",
      "Número total de valores: 5543\n",
      "Número de valores únicos: 4052\n",
      "Valor más frecuente (top): 0.26\n",
      "Frecuencia del valor más frecuente (freq): 13\n",
      "Valor mínimo: 0.02\n",
      "Valor maximo: 8468.22\n",
      "Media: 295.9543009200794\n"
     ]
    }
   ],
   "source": [
    "# si bien la informacion que nos otorga .describe() es muy util , decidimos profundizar con mayor granularidad en ciertas columnas de interes \n",
    "columnas_de_interes = ['VendorNumber', 'PONumber','Quantity', 'Dollars', 'Freight']\n",
    "\n",
    "#Definimos la función para imprimir las estadísticas de una columna\n",
    "def print_column_stats(df, column):\n",
    "    print(f\"\\nEstadísticas para la columna '{column}':\")\n",
    "    print(f\"Número total de valores (incluyendo nulos): {len(df[column])}\")\n",
    "    print(f\"Número total de valores: {df[column].agg('count')}\")\n",
    "    print(f\"Número de valores únicos: {df[column].nunique()}\")\n",
    "    print(f\"Valor más frecuente (top): {df[column].mode()[0]}\")\n",
    "    print(f\"Frecuencia del valor más frecuente (freq): {df[column].value_counts().max()}\")\n",
    "    print(f\"Valor mínimo: {df[column].agg('min')}\")\n",
    "    print(f\"Valor maximo: {df[column].agg('max')}\")\n",
    "    print(f\"Media: {df[column].agg('mean')}\")\n",
    "\n",
    "\n",
    "#Con un ciclo For, iteraramos sobre las columnas de flotantes\n",
    "for column in columnas_de_interes:\n",
    "    print_column_stats(facturacompras, column)"
   ]
  },
  {
   "cell_type": "code",
   "execution_count": 174,
   "metadata": {},
   "outputs": [
    {
     "name": "stdout",
     "output_type": "stream",
     "text": [
      "      VendorNumber                   VendorName InvoiceDate  PONumber  \\\n",
      "4728          3960  DIAGEO NORTH AMERICA INC     2016-11-15     12833   \n",
      "4521          3960  DIAGEO NORTH AMERICA INC     2016-11-03     12618   \n",
      "4627          3960  DIAGEO NORTH AMERICA INC     2016-11-12     12771   \n",
      "2822          3960  DIAGEO NORTH AMERICA INC     2016-07-16     10936   \n",
      "3025          3960  DIAGEO NORTH AMERICA INC     2016-08-01     11191   \n",
      "4829          3960  DIAGEO NORTH AMERICA INC     2016-11-29     12981   \n",
      "5037          3960  DIAGEO NORTH AMERICA INC     2016-12-07     13190   \n",
      "5456          3960  DIAGEO NORTH AMERICA INC     2017-01-10     13594   \n",
      "3129          3960  DIAGEO NORTH AMERICA INC     2016-08-03     11300   \n",
      "2125          3960  DIAGEO NORTH AMERICA INC     2016-06-06     10260   \n",
      "1317          3960  DIAGEO NORTH AMERICA INC     2016-04-06      9451   \n",
      "2924          3960  DIAGEO NORTH AMERICA INC     2016-07-26     11028   \n",
      "4416          3960  DIAGEO NORTH AMERICA INC     2016-10-25     12579   \n",
      "5240          3960  DIAGEO NORTH AMERICA INC     2016-12-21     13354   \n",
      "2330          3960  DIAGEO NORTH AMERICA INC     2016-06-15     10468   \n",
      "3631          3960  DIAGEO NORTH AMERICA INC     2016-09-09     11794   \n",
      "3428          3960  DIAGEO NORTH AMERICA INC     2016-08-30     11589   \n",
      "5349          3960  DIAGEO NORTH AMERICA INC     2016-12-31     13501   \n",
      "5138          3960  DIAGEO NORTH AMERICA INC     2016-12-13     13258   \n",
      "1719          3960  DIAGEO NORTH AMERICA INC     2016-05-07      9904   \n",
      "4045          3960  DIAGEO NORTH AMERICA INC     2016-10-08     12149   \n",
      "3738          3960  DIAGEO NORTH AMERICA INC     2016-09-13     11907   \n",
      "4313          3960  DIAGEO NORTH AMERICA INC     2016-10-24     12470   \n",
      "2226          3960  DIAGEO NORTH AMERICA INC     2016-06-09     10415   \n",
      "5487          4425        MARTIGNETTI COMPANIES  2017-01-03     13584   \n",
      "4213          3960  DIAGEO NORTH AMERICA INC     2016-10-13     12397   \n",
      "2534          3960  DIAGEO NORTH AMERICA INC     2016-06-29     10700   \n",
      "109           3960  DIAGEO NORTH AMERICA INC     2016-01-14      8271   \n",
      "2435          3960  DIAGEO NORTH AMERICA INC     2016-06-20     10566   \n",
      "3228          3960  DIAGEO NORTH AMERICA INC     2016-08-16     11329   \n",
      "\n",
      "         PODate    PayDate  Quantity     Dollars  Freight        Approval  \n",
      "4728 2016-10-30 2016-12-19    141660  1660435.88  8468.22  Frank Delahunt  \n",
      "4521 2016-10-16 2016-12-14    122740  1468470.64  7048.66  Frank Delahunt  \n",
      "4627 2016-10-26 2016-12-24    127553  1409683.51  7753.26  Frank Delahunt  \n",
      "2822 2016-06-27 2016-08-13    131712  1377224.55  7574.74  Frank Delahunt  \n",
      "3025 2016-07-14 2016-09-07    128861  1354087.31  7041.25  Frank Delahunt  \n",
      "4829 2016-11-09 2016-12-30    119586  1321953.42  7006.35  Frank Delahunt  \n",
      "5037 2016-11-23 2017-01-16    116491  1319062.86  6331.50  Frank Delahunt  \n",
      "5456 2016-12-20 2017-02-05    129816  1226463.19  6132.32  Frank Delahunt  \n",
      "3129 2016-07-21 2016-09-14    114609  1225680.18  6373.54  Frank Delahunt  \n",
      "2125 2016-05-17 2016-07-14    117416  1219948.49  6709.72  Frank Delahunt  \n",
      "1317 2016-03-22 2016-05-10    106205  1162576.08  5812.88  Frank Delahunt  \n",
      "2924 2016-07-03 2016-08-18    131032  1160975.84  6269.27  Frank Delahunt  \n",
      "4416 2016-10-12 2016-12-05    112498  1160505.37  6150.68  Frank Delahunt  \n",
      "5240 2016-12-05 2017-01-30    134333  1127733.09  5300.35  Frank Delahunt  \n",
      "2330 2016-05-31 2016-07-24    108170  1117060.84  5473.60  Frank Delahunt  \n",
      "3631 2016-08-24 2016-10-06    112335  1114978.86  6020.89  Frank Delahunt  \n",
      "3428 2016-08-10 2016-10-05    119801  1104864.79  5855.78  Frank Delahunt  \n",
      "5349 2016-12-14 2017-02-08    124996  1104187.97  4968.85  Frank Delahunt  \n",
      "5138 2016-11-28 2017-01-29    116065  1049079.36  4720.86  Frank Delahunt  \n",
      "1719 2016-04-22 2016-06-14    112194  1041834.26  4792.44  Frank Delahunt  \n",
      "4045 2016-09-18 2016-11-07    118819  1038996.71  4883.28  Frank Delahunt  \n",
      "3738 2016-09-01 2016-10-19    108240  1019820.55  4691.17  Frank Delahunt  \n",
      "4313 2016-10-05 2016-11-24    110018  1018011.41  4581.05  Frank Delahunt  \n",
      "2226 2016-05-27 2016-07-13    104451  1013433.92  4560.45  Frank Delahunt  \n",
      "5487 2016-12-19 2017-02-17     92470  1010674.21  4952.30  Frank Delahunt  \n",
      "4213 2016-09-30 2016-11-27    111132  1006682.30  5033.41  Frank Delahunt  \n",
      "2534 2016-06-16 2016-08-09     99841   982423.13  4420.90  Frank Delahunt  \n",
      "109  2015-12-31 2016-02-11    100183   954454.16  4581.38  Frank Delahunt  \n",
      "2435 2016-06-07 2016-08-04    109575   931123.74  5028.07  Frank Delahunt  \n",
      "3228 2016-07-24 2016-09-14    106690   930623.99  4187.81  Frank Delahunt  \n"
     ]
    }
   ],
   "source": [
    "#Verificamos si las compras con los costos de envio mas elevados son aprobadas por algun encargado\n",
    "\n",
    "# Ordenar el DataFrame por la columna 'Importe' en orden descendente\n",
    "df_sorted = facturacompras.sort_values('Dollars', ascending=False)\n",
    "\n",
    "#Filtramos las primeras 30 filas\n",
    "top_30_dollars = df_sorted.head(30)\n",
    "\n",
    "# Mostrar el resultado\n",
    "print(top_30_dollars)\n",
    "\n",
    "#Con esto vemos que las compras que tienen costo de envio mas alto, requieren autorizacion previa"
   ]
  },
  {
   "cell_type": "code",
   "execution_count": 175,
   "metadata": {},
   "outputs": [
    {
     "name": "stdout",
     "output_type": "stream",
     "text": [
      "en este caso los valores por debajo de 249821.96 no requieren una aprobacion pero apartir de 250689.87 deberan ser supervisados por Frank Delahunt \n"
     ]
    }
   ],
   "source": [
    "# con el caso anterior se llega a la conclusion de que los valores mas alto en importe necesitan una aprobacion de Frank Delahunt , entonces es de vital importancia conocer cual es valor minimo que no requiere una aprobacion \n",
    "\n",
    "maximo_noaplica=facturacompras[facturacompras['Approval'] == 'Sin Aplicar' ]['Dollars'].max()\n",
    "valor_minimo_aprobacion = facturacompras[facturacompras['Approval']=='Frank Delahunt']['Dollars'].min()\n",
    "\n",
    "print(f'en este caso los valores por debajo de {maximo_noaplica} no requieren una aprobacion pero apartir de {valor_minimo_aprobacion} deberan ser supervisados por Frank Delahunt ')"
   ]
  }
 ],
 "metadata": {
  "kernelspec": {
   "display_name": "Python 3",
   "language": "python",
   "name": "python3"
  },
  "language_info": {
   "codemirror_mode": {
    "name": "ipython",
    "version": 3
   },
   "file_extension": ".py",
   "mimetype": "text/x-python",
   "name": "python",
   "nbconvert_exporter": "python",
   "pygments_lexer": "ipython3",
   "version": "3.12.5"
  }
 },
 "nbformat": 4,
 "nbformat_minor": 2
}
